{
 "cells": [
  {
   "cell_type": "code",
   "execution_count": 1,
   "metadata": {},
   "outputs": [],
   "source": [
    "import torch\n",
    "import torch.nn as nn\n",
    "import FrEIA.framework as Ff\n",
    "import FrEIA.modules as Fm\n",
    "import pandas as pd\n",
    "import torch.distributions as dist\n",
    "import matplotlib.pyplot as plt\n",
    "import numpy as np\n",
    "import matplotlib\n",
    "\n",
    "from helpers import *\n",
    "from sklearn.preprocessing import StandardScaler\n",
    "from os.path import exists\n",
    "from argparse import ArgumentParser"
   ]
  },
  {
   "cell_type": "code",
   "execution_count": 2,
   "metadata": {},
   "outputs": [
    {
     "name": "stdout",
     "output_type": "stream",
     "text": [
      "Namespace(cuda=0, flows=8, model='8flows_3layer_200nodes_50000batch/model.pt', nn_hidden=3, nn_nodes=200, output='eval_dummy/', test=1)\n"
     ]
    }
   ],
   "source": [
    "parser = ArgumentParser()\n",
    "parser.add_argument(\"-c\", \"--cuda\", dest=\"cuda\", default=0, type=int, help='Cuda number')\n",
    "\n",
    "parser.add_argument(\"-f\", '--flows', dest=\"flows\", default=8, type=int, help='Number of flows')\n",
    "parser.add_argument(\"--nn-hidden\", dest=\"nn_hidden\", default=3, type=int, help='Number of hidden layers for the NN')\n",
    "parser.add_argument(\"--nn-nodes\", dest=\"nn_nodes\", default=200, type=int, help='Number of hidden nodes for NN')\n",
    "parser.add_argument(\"--model\", dest=\"model\", default='8flows_3layer_200nodes_50000batch/model.pt', type=str, help='Path to model')\n",
    "parser.add_argument(\"--output\", dest=\"output\", default='eval_dummy/', type=str, help='Path for output files')\n",
    "\n",
    "parser.add_argument(\"--test\", dest=\"test\", default=0, type=int, help='Test run {True, False}')\n",
    "\n",
    "args = parser.parse_args(\"\")\n",
    "\n",
    "print(args)"
   ]
  },
  {
   "cell_type": "code",
   "execution_count": 3,
   "metadata": {},
   "outputs": [],
   "source": [
    "ensure_dir(args.output)"
   ]
  },
  {
   "cell_type": "code",
   "execution_count": 4,
   "metadata": {},
   "outputs": [
    {
     "name": "stdout",
     "output_type": "stream",
     "text": [
      "Reading:  /ceph/lsowa/recoil/dt.root\n",
      "1\n",
      "Reading:  /ceph/lsowa/recoil/mc.root\n",
      "1\n"
     ]
    }
   ],
   "source": [
    "if exists('/ceph/lsowa/recoil/dt.root'):\n",
    "    dfdata = load_from_root('/ceph/lsowa/recoil/dt.root', test=args.test)\n",
    "    dfmc = load_from_root('/ceph/lsowa/recoil/mc.root', test=args.test)\n",
    "else:\n",
    "    # when running on cluster\n",
    "    dfdata = load_from_root('recoil/dt.root', test=args.test)\n",
    "    dfmc = load_from_root('recoil/mc.root', test=args.test)"
   ]
  },
  {
   "cell_type": "code",
   "execution_count": 5,
   "metadata": {},
   "outputs": [],
   "source": [
    "pz = dist.MultivariateNormal(torch.zeros(2), torch.eye(2))"
   ]
  },
  {
   "cell_type": "code",
   "execution_count": 6,
   "metadata": {},
   "outputs": [],
   "source": [
    "cond = ['metphi','pt_vis_c', 'phi_vis_c','pt_1', 'pt_2','dxy_1', 'dxy_2','dz_1',\n",
    "        'dz_2','eta_1', 'eta_2','mass_1', 'mass_2','metSumEt']\n",
    "names = ['uP1_uncorrected', 'uP2_uncorrected']"
   ]
  },
  {
   "cell_type": "code",
   "execution_count": 7,
   "metadata": {},
   "outputs": [],
   "source": [
    "data = dfdata[names].to_numpy().astype(float)\n",
    "mc = dfmc[names].to_numpy().astype(float)\n",
    "cdata = dfdata[cond].to_numpy().astype(float)\n",
    "cmc = dfmc[cond].to_numpy().astype(float)"
   ]
  },
  {
   "cell_type": "code",
   "execution_count": 8,
   "metadata": {},
   "outputs": [],
   "source": [
    "# +\n",
    "# Z standardize inputs\n",
    "# +\n",
    "input_scaler = StandardScaler()\n",
    "data = input_scaler.fit_transform(data)\n",
    "mc = input_scaler.transform(mc)\n",
    "\n",
    "cond_scaler = StandardScaler()\n",
    "cdata = cond_scaler.fit_transform(cdata)\n",
    "cmc = cond_scaler.transform(cmc)"
   ]
  },
  {
   "cell_type": "code",
   "execution_count": 9,
   "metadata": {},
   "outputs": [],
   "source": [
    "data, mc, cdata, cmc = torch.tensor(data), torch.tensor(mc), torch.tensor(cdata), torch.tensor(cmc)"
   ]
  },
  {
   "cell_type": "code",
   "execution_count": 10,
   "metadata": {},
   "outputs": [],
   "source": [
    "# Setup Model\n",
    "\n",
    "def mlp_constructor(input_dim=2, out_dim=2, hidden_nodes=args.nn_nodes):\n",
    "    \n",
    "    layers = [nn.Linear(input_dim, hidden_nodes), nn.ReLU()]\n",
    "    for n in range(args.nn_hidden-1):\n",
    "        layers.append(nn.Linear(hidden_nodes, hidden_nodes))\n",
    "        layers.append(nn.ReLU())\n",
    "    layers.append(nn.Linear(hidden_nodes, out_dim))\n",
    "    \n",
    "    model = nn.Sequential(*layers)\n",
    "    return model\n",
    "\n",
    "model = Ff.SequenceINN(2)\n",
    "for k in range(args.flows):\n",
    "    model.append(Fm.RNVPCouplingBlock, subnet_constructor=mlp_constructor, \n",
    "                    clamp=2, cond=0, cond_shape=(cmc.shape[1],))"
   ]
  },
  {
   "cell_type": "code",
   "execution_count": 11,
   "metadata": {},
   "outputs": [
    {
     "data": {
      "text/plain": [
       "<All keys matched successfully>"
      ]
     },
     "execution_count": 11,
     "metadata": {},
     "output_type": "execute_result"
    }
   ],
   "source": [
    "model.load_state_dict(torch.load(args.model))"
   ]
  },
  {
   "cell_type": "code",
   "execution_count": 12,
   "metadata": {},
   "outputs": [
    {
     "data": {
      "text/plain": [
       "<Figure size 576x576 with 0 Axes>"
      ]
     },
     "metadata": {},
     "output_type": "display_data"
    }
   ],
   "source": [
    "model.cpu()\n",
    "z = evaluate_sequential(model, data.float(), cond=cdata.float())\n",
    "gaussian = pz.sample((100000, ))\n",
    "density_2d(z.cpu().detach().numpy(), gaussian.cpu().detach().numpy(), \n",
    "            dist_label=r'target gaussian $z$', data_label=r'model(y, $\\mathrm{cond}_\\mathrm{Data}$)= $\\hat{z}$', \n",
    "            xlim = [-3, 3], ylim = [-3, 3], save_as=args.output+'2d_gaussian_data.pdf')"
   ]
  },
  {
   "cell_type": "code",
   "execution_count": 13,
   "metadata": {},
   "outputs": [
    {
     "data": {
      "text/plain": [
       "<Figure size 576x576 with 0 Axes>"
      ]
     },
     "metadata": {},
     "output_type": "display_data"
    }
   ],
   "source": [
    "z = evaluate_sequential(model, mc.float(), cond=cmc.float())\n",
    "gaussian = pz.sample((100000, ))\n",
    "density_2d(z.cpu().detach().numpy(), gaussian.cpu().detach().numpy(), \n",
    "            dist_label=r'target gaussian $z$', data_label=r'model(y, $\\mathrm{cond}_\\mathrm{Data}$)= $\\hat{z}$', \n",
    "            xlim = [-3, 3], ylim = [-3, 3], save_as=args.output+'2d_gaussian_mc.pdf')"
   ]
  },
  {
   "cell_type": "code",
   "execution_count": 14,
   "metadata": {},
   "outputs": [],
   "source": [
    "\n",
    "# Predict y\n",
    "\n",
    "z = pz.sample((cmc.shape[0], ))\n",
    "u = evaluate_sequential(model, z, cmc.float(), rev=True)\n",
    "u = u.cpu().detach().numpy()\n",
    "\n",
    "u = input_scaler.inverse_transform(u)\n",
    "data = input_scaler.inverse_transform(data)\n",
    "mc = input_scaler.inverse_transform(mc)\n"
   ]
  },
  {
   "cell_type": "code",
   "execution_count": 15,
   "metadata": {},
   "outputs": [
    {
     "data": {
      "text/plain": [
       "<Figure size 576x576 with 0 Axes>"
      ]
     },
     "metadata": {},
     "output_type": "display_data"
    }
   ],
   "source": [
    "density_2d(u, data, \n",
    "            dist_label=r'$u^\\mathrm{Data}_\\parallel$', data_label=r'model(z, $\\mathrm{cond}_\\mathrm{MC}$)=$\\hat{u_\\parallel}$', \n",
    "            xlim = [-160, 100], ylim = [-80, 30], save_as=args.output+'2d_model_data.pdf')"
   ]
  },
  {
   "cell_type": "code",
   "execution_count": 16,
   "metadata": {},
   "outputs": [
    {
     "data": {
      "text/plain": [
       "<Figure size 576x576 with 0 Axes>"
      ]
     },
     "metadata": {},
     "output_type": "display_data"
    }
   ],
   "source": [
    "density_2d(u, mc, \n",
    "            dist_label=r'$u^\\mathrm{MC}_\\parallel$', data_label=r'model(z, $\\mathrm{cond}_\\mathrm{MC}$)=$\\hat{u_\\parallel}$', \n",
    "            xlim = [-160, 100], ylim = [-80, 30], save_as=args.output+'2d_model_mc.pdf')"
   ]
  },
  {
   "cell_type": "markdown",
   "metadata": {},
   "source": [
    "# ### Compare MC -> Data"
   ]
  },
  {
   "cell_type": "code",
   "execution_count": 17,
   "metadata": {
    "lines_to_next_cell": 2
   },
   "outputs": [
    {
     "data": {
      "text/plain": [
       "<Figure size 432x288 with 0 Axes>"
      ]
     },
     "metadata": {},
     "output_type": "display_data"
    }
   ],
   "source": [
    "# u parallel\n",
    "interval = [-170, 100]\n",
    "_ = plt.hist(u[:,0], density=True, bins=100, range=interval, label=r'model(z,$c^\\mathrm{MC}$)=$u_\\parallel$')\n",
    "_ = plt.hist(data[:,0], histtype=u'step', density=True, bins=100, \n",
    "                range=interval, linewidth=2, color='black', label=r'$u^\\mathrm{Data}_\\parallel$')\n",
    "_ = plt.hist(dfmc['uP1_uncorrected'].values, histtype=u'step', density=True, \n",
    "                bins=100, range=interval, linewidth=2, color='red', label=r'$u^\\mathrm{MC}_\\parallel$ uncorrected')\n",
    "plt.xlabel(r'$u_\\parallel$')\n",
    "plt.ylabel('a. u.')\n",
    "plt.legend()\n",
    "plt.savefig(args.output+'u_parallel.pdf')\n",
    "plt.clf()\n"
   ]
  },
  {
   "cell_type": "code",
   "execution_count": 18,
   "metadata": {
    "lines_to_next_cell": 2
   },
   "outputs": [
    {
     "data": {
      "text/plain": [
       "<Figure size 432x288 with 0 Axes>"
      ]
     },
     "metadata": {},
     "output_type": "display_data"
    }
   ],
   "source": [
    "# u perp\n",
    "interval = [-80, 80]\n",
    "_ = plt.hist(u[:,1], density=True, bins=100, range=interval, label=r'model(z,$c^\\mathrm{MC}$)=$u_\\perp $')\n",
    "_ = plt.hist(data[:,1], histtype=u'step', density=True, bins=100, range=interval, \n",
    "                linewidth=2, color='black', label=r'$u^\\mathrm{Data}_\\perp $')\n",
    "_ = plt.hist(dfmc['uP2_uncorrected'].values, histtype=u'step', density=True, bins=100, \n",
    "                range=interval, linewidth=2, color='red', label=r'$u^\\mathrm{MC}_\\perp $ uncorrected')\n",
    "plt.xlabel(r'$u_\\perp$')\n",
    "plt.ylabel('a. u.')\n",
    "plt.legend()\n",
    "plt.savefig(args.output+'u_perp.pdf')\n",
    "plt.clf()\n"
   ]
  },
  {
   "cell_type": "code",
   "execution_count": 19,
   "metadata": {},
   "outputs": [
    {
     "data": {
      "text/plain": [
       "<Figure size 432x288 with 0 Axes>"
      ]
     },
     "metadata": {},
     "output_type": "display_data"
    }
   ],
   "source": [
    "# response\n",
    "\n",
    "up = u[:,0]\n",
    "ptz = dfmc['pt_vis_c']\n",
    "\n",
    "xmin = 25\n",
    "xmax = 200\n",
    "\n",
    "keep = np.logical_and(xmax > ptz, ptz > xmin)\n",
    "ptz = ptz[keep]\n",
    "up = up[keep]\n",
    "r = -up/ptz\n",
    "\n",
    "bins = np.linspace(xmin,xmax,10)\n",
    "bin_mids = (bins[1:]-bins[:-1])/2 + bins[:-1]\n",
    "hist_raw, edges = np.histogram(ptz, bins = bins, range=[xmin, xmax])\n",
    "hist_weighted, edges = np.histogram(ptz, bins = bins, weights=r, range=[xmin, xmax])\n",
    "\n",
    "#plt.plot(bin_mids, hist_weighted/hist_raw, '.')\n",
    "plt.hlines([1], bins.min(), bins.max(), color='black')\n",
    "plt.errorbar(x=bin_mids, y=hist_weighted/hist_raw,\n",
    "            xerr=(bins[1:]-bins[:-1])/2, fmt='o', capsize=2)\n",
    "plt.xlabel(r'$p_\\mathrm{T}^Z$ in GeV')\n",
    "plt.ylabel(r'$\\langle \\frac{\\mathrm{u}_\\parallel}{p_\\mathrm{T}^Z}\\rangle$')\n",
    "plt.xlim([bins.min(), bins.max()])\n",
    "plt.savefig(args.output+'response.pdf')\n",
    "plt.clf()"
   ]
  },
  {
   "cell_type": "code",
   "execution_count": 20,
   "metadata": {
    "lines_to_next_cell": 2
   },
   "outputs": [
    {
     "data": {
      "text/plain": [
       "<Figure size 432x288 with 0 Axes>"
      ]
     },
     "metadata": {},
     "output_type": "display_data"
    }
   ],
   "source": [
    "n, bins, edges = plt.hist(up, histtype=r'step', bins=200, range=[-200, 200], \n",
    "                            density=True, label=r'$\\mathrm{u}_\\parallel$')\n",
    "n1, bins1, edges1 = plt.hist(ptz, histtype=r'step', bins=200, range=[-200, 200], \n",
    "                                density=True, label=r'$p_\\mathrm{T}^Z}\\rangle$')\n",
    "plt.xlim([-200, 200])\n",
    "plt.legend()\n",
    "plt.xlabel('GeV')\n",
    "plt.ylabel('a.u.')\n",
    "plt.savefig(args.output+'uperp_ptw.pdf')\n",
    "plt.clf()"
   ]
  },
  {
   "cell_type": "code",
   "execution_count": 21,
   "metadata": {},
   "outputs": [],
   "source": [
    "csingle_event = torch.concat([cmc[100,:].unsqueeze(0)]*10000)"
   ]
  },
  {
   "cell_type": "code",
   "execution_count": 22,
   "metadata": {},
   "outputs": [],
   "source": [
    "z = pz.sample((csingle_event.shape[0], ))\n",
    "z = evaluate_sequential(model, z, cond=csingle_event.float(), rev=True)\n",
    "\n",
    "u = input_scaler.inverse_transform(u)"
   ]
  },
  {
   "cell_type": "code",
   "execution_count": 23,
   "metadata": {},
   "outputs": [
    {
     "data": {
      "text/plain": [
       "<Figure size 576x576 with 0 Axes>"
      ]
     },
     "metadata": {},
     "output_type": "display_data"
    }
   ],
   "source": [
    "density_2d(u, mc, \n",
    "            dist_label=r'target $y_\\mathrm{MC}$', data_label=r'model(z, $\\mathrm{cond}^\\mathrm{fixed}_\\mathrm{MC}$)=$\\hat{y}$', \n",
    "            xlim = [-160, 100], ylim = [-80, 30], save_as=args.output+'fixedevent.pdf')"
   ]
  }
 ],
 "metadata": {
  "jupytext": {
   "formats": "ipynb,py"
  },
  "kernelspec": {
   "display_name": "Python 3.6.9 ('cluster')",
   "language": "python",
   "name": "python3"
  },
  "language_info": {
   "codemirror_mode": {
    "name": "ipython",
    "version": 3
   },
   "file_extension": ".py",
   "mimetype": "text/x-python",
   "name": "python",
   "nbconvert_exporter": "python",
   "pygments_lexer": "ipython3",
   "version": "3.6.9"
  },
  "vscode": {
   "interpreter": {
    "hash": "51d79ee5a382be89a01a9124be8ffc10729a209d43e3ab0e2c741d5f20c6cac5"
   }
  }
 },
 "nbformat": 4,
 "nbformat_minor": 2
}
