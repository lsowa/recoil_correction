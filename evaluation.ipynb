{
 "cells": [
  {
   "cell_type": "code",
   "execution_count": 28,
   "metadata": {},
   "outputs": [],
   "source": [
    "import torch\n",
    "import torch.nn as nn\n",
    "import FrEIA.framework as Ff\n",
    "import FrEIA.modules as Fm\n",
    "import pandas as pd\n",
    "import torch.distributions as dist\n",
    "import matplotlib.pyplot as plt\n",
    "import numpy as np\n",
    "import matplotlib\n",
    "\n",
    "from helpers import *\n",
    "from sklearn.preprocessing import StandardScaler\n",
    "from os.path import exists\n",
    "from argparse import ArgumentParser\n",
    "\n",
    "matplotlib.use('Agg')"
   ]
  },
  {
   "cell_type": "code",
   "execution_count": 29,
   "metadata": {},
   "outputs": [
    {
     "data": {
      "text/plain": [
       "_StoreAction(option_strings=['--test'], dest='test', nargs=None, const=None, default=1, type=<class 'int'>, choices=None, help='Test run {True, False}', metavar=None)"
      ]
     },
     "execution_count": 29,
     "metadata": {},
     "output_type": "execute_result"
    }
   ],
   "source": [
    "parser = ArgumentParser()\n",
    "parser.add_argument(\"-c\", \"--cuda\", dest=\"cuda\", default=0, type=int, help='Cuda number')\n",
    "\n",
    "parser.add_argument(\"-f\", '--flows', dest=\"flows\", default=8, type=int, help='Number of flows')\n",
    "parser.add_argument(\"--nn-hidden\", dest=\"nn_hidden\", default=3, type=int, help='Number of hidden layers for the NN')\n",
    "parser.add_argument(\"--nn-nodes\", dest=\"nn_nodes\", default=200, type=int, help='Number of hidden nodes for NN')\n",
    "parser.add_argument(\"--model\", dest=\"model\", default='8flows_3layer_200nodes_50000batch/model.pt', type=str, help='Path to model')\n",
    "parser.add_argument(\"--output\", dest=\"output\", default='eval_dummy/', type=str, help='Path for output files')\n",
    "\n",
    "parser.add_argument(\"--test\", dest=\"test\", default=1, type=int, help='Test run {True, False}')"
   ]
  },
  {
   "cell_type": "code",
   "execution_count": 30,
   "metadata": {},
   "outputs": [
    {
     "name": "stdout",
     "output_type": "stream",
     "text": [
      "Namespace(cuda=0, flows=8, model='8flows_3layer_200nodes_50000batch/model.pt', nn_hidden=3, nn_nodes=200, output='eval_dummy/', test=1)\n"
     ]
    }
   ],
   "source": [
    "# pass default arguments if executed as ipynb\n",
    "try: \n",
    "    if get_ipython().__class__.__name__ == 'ZMQInteractiveShell': args = parser.parse_args(\"\") \n",
    "except:\n",
    "    args = parser.parse_args()\n",
    "\n",
    "print(args)"
   ]
  },
  {
   "cell_type": "code",
   "execution_count": 31,
   "metadata": {},
   "outputs": [],
   "source": [
    "ensure_dir(args.output)"
   ]
  },
  {
   "cell_type": "code",
   "execution_count": 32,
   "metadata": {},
   "outputs": [
    {
     "name": "stdout",
     "output_type": "stream",
     "text": [
      "Reading files from:  /ceph/lsowa/recoil/dt.root\n",
      "No.  1\n",
      "Reading files from:  /ceph/lsowa/recoil/mc.root\n",
      "No.  1\n"
     ]
    }
   ],
   "source": [
    "if exists('/ceph/lsowa/recoil/dt.root'):\n",
    "    dfdata = load_from_root('/ceph/lsowa/recoil/dt.root', test=args.test)\n",
    "    dfmc = load_from_root('/ceph/lsowa/recoil/mc.root', test=args.test)\n",
    "else:\n",
    "    # when running on cluster\n",
    "    dfdata = load_from_root('recoil/dt.root', test=args.test)\n",
    "    dfmc = load_from_root('recoil/mc.root', test=args.test)"
   ]
  },
  {
   "cell_type": "code",
   "execution_count": 33,
   "metadata": {},
   "outputs": [],
   "source": [
    "pz = dist.MultivariateNormal(torch.zeros(2), torch.eye(2))"
   ]
  },
  {
   "cell_type": "code",
   "execution_count": 34,
   "metadata": {},
   "outputs": [],
   "source": [
    "cond = ['metphi','pt_vis_c', 'phi_vis_c','pt_1', 'pt_2','dxy_1', 'dxy_2','dz_1',\n",
    "        'dz_2','eta_1', 'eta_2','mass_1', 'mass_2','metSumEt']\n",
    "names = ['uP1_uncorrected', 'uP2_uncorrected']"
   ]
  },
  {
   "cell_type": "code",
   "execution_count": 35,
   "metadata": {},
   "outputs": [],
   "source": [
    "data = dfdata[names].to_numpy().astype(float)\n",
    "mc = dfmc[names].to_numpy().astype(float)\n",
    "cdata = dfdata[cond].to_numpy().astype(float)\n",
    "cmc = dfmc[cond].to_numpy().astype(float)"
   ]
  },
  {
   "cell_type": "code",
   "execution_count": 36,
   "metadata": {},
   "outputs": [],
   "source": [
    "# +\n",
    "# Z standardize inputs\n",
    "# +\n",
    "input_scaler = StandardScaler()\n",
    "data = input_scaler.fit_transform(data)\n",
    "mc = input_scaler.transform(mc)\n",
    "\n",
    "cond_scaler = StandardScaler()\n",
    "cdata = cond_scaler.fit_transform(cdata)\n",
    "cmc = cond_scaler.transform(cmc)"
   ]
  },
  {
   "cell_type": "code",
   "execution_count": 37,
   "metadata": {},
   "outputs": [],
   "source": [
    "data, mc, cdata, cmc = torch.tensor(data), torch.tensor(mc), torch.tensor(cdata), torch.tensor(cmc)"
   ]
  },
  {
   "cell_type": "code",
   "execution_count": 38,
   "metadata": {},
   "outputs": [],
   "source": [
    "# Setup Model\n",
    "\n",
    "def mlp_constructor(input_dim=2, out_dim=2, hidden_nodes=args.nn_nodes):\n",
    "    \n",
    "    layers = [nn.Linear(input_dim, hidden_nodes), nn.ReLU()]\n",
    "    for n in range(args.nn_hidden-1):\n",
    "        layers.append(nn.Linear(hidden_nodes, hidden_nodes))\n",
    "        layers.append(nn.ReLU())\n",
    "    layers.append(nn.Linear(hidden_nodes, out_dim))\n",
    "    \n",
    "    model = nn.Sequential(*layers)\n",
    "    return model\n",
    "\n",
    "model = Ff.SequenceINN(2)\n",
    "for k in range(args.flows):\n",
    "    model.append(Fm.RNVPCouplingBlock, subnet_constructor=mlp_constructor, \n",
    "                    clamp=2, cond=0, cond_shape=(cmc.shape[1],))"
   ]
  },
  {
   "cell_type": "code",
   "execution_count": 39,
   "metadata": {},
   "outputs": [
    {
     "data": {
      "text/plain": [
       "<All keys matched successfully>"
      ]
     },
     "execution_count": 39,
     "metadata": {},
     "output_type": "execute_result"
    }
   ],
   "source": [
    "model.load_state_dict(torch.load(args.model))"
   ]
  },
  {
   "cell_type": "code",
   "execution_count": 40,
   "metadata": {},
   "outputs": [
    {
     "name": "stderr",
     "output_type": "stream",
     "text": [
      "/ceph/lsowa/envs/cluster/lib/python3.6/site-packages/seaborn/distributions.py:1718: UserWarning: `shade_lowest` is now deprecated in favor of `thresh`. Setting `thresh=0.05`, but please update your code.\n",
      "  warnings.warn(msg, UserWarning)\n"
     ]
    }
   ],
   "source": [
    "model.cpu()\n",
    "z, _ = evaluate_sequential(model, data.float(), cond=cdata.float())\n",
    "gaussian = pz.sample((100000, ))\n",
    "density_2d(z.cpu().detach().numpy(), gaussian.cpu().detach().numpy(), \n",
    "            line_label=r'target gaussian $z$', hist_label=r'model(y, $\\mathrm{cond}_\\mathrm{Data}$)= $\\hat{z}$', \n",
    "            xlim = [-3, 3], ylim = [-3, 3], save_as=args.output+'2d_gaussian_data.pdf')"
   ]
  },
  {
   "cell_type": "code",
   "execution_count": 41,
   "metadata": {},
   "outputs": [
    {
     "name": "stderr",
     "output_type": "stream",
     "text": [
      "/ceph/lsowa/envs/cluster/lib/python3.6/site-packages/seaborn/distributions.py:1718: UserWarning: `shade_lowest` is now deprecated in favor of `thresh`. Setting `thresh=0.05`, but please update your code.\n",
      "  warnings.warn(msg, UserWarning)\n"
     ]
    }
   ],
   "source": [
    "z, _ = evaluate_sequential(model, mc.float(), cond=cmc.float())\n",
    "gaussian = pz.sample((100000, ))\n",
    "density_2d(z.cpu().detach().numpy(), gaussian.cpu().detach().numpy(), \n",
    "            line_label=r'target gaussian $z$', hist_label=r'model(y, $\\mathrm{cond}_\\mathrm{MC}$)= $\\hat{z}$', \n",
    "            xlim = [-3, 3], ylim = [-3, 3], save_as=args.output+'2d_gaussian_mc.pdf')"
   ]
  },
  {
   "cell_type": "code",
   "execution_count": 42,
   "metadata": {},
   "outputs": [],
   "source": [
    "\n",
    "# Predict y\n",
    "\n",
    "z = pz.sample((cmc.shape[0], ))\n",
    "u, _ = evaluate_sequential(model, z, cmc.float(), rev=True)\n",
    "\n",
    "u = u.cpu().detach().numpy()\n",
    "u = input_scaler.inverse_transform(u)\n",
    "\n",
    "data = input_scaler.inverse_transform(data)\n",
    "mc = input_scaler.inverse_transform(mc)\n"
   ]
  },
  {
   "cell_type": "code",
   "execution_count": 43,
   "metadata": {},
   "outputs": [
    {
     "name": "stderr",
     "output_type": "stream",
     "text": [
      "/ceph/lsowa/envs/cluster/lib/python3.6/site-packages/seaborn/distributions.py:1718: UserWarning: `shade_lowest` is now deprecated in favor of `thresh`. Setting `thresh=0.05`, but please update your code.\n",
      "  warnings.warn(msg, UserWarning)\n"
     ]
    }
   ],
   "source": [
    "density_2d(u, data, \n",
    "            line_label=r'$u^\\mathrm{MC}$', hist_label=r'model(z, $\\mathrm{cond}_\\mathrm{MC}$)=$\\hat{u}$', \n",
    "            xlim = [-160, 100], ylim = [-80, 30], save_as=args.output+'2d_comp_umc_to_data.pdf')"
   ]
  },
  {
   "cell_type": "code",
   "execution_count": 44,
   "metadata": {},
   "outputs": [
    {
     "name": "stderr",
     "output_type": "stream",
     "text": [
      "/ceph/lsowa/envs/cluster/lib/python3.6/site-packages/seaborn/distributions.py:1718: UserWarning: `shade_lowest` is now deprecated in favor of `thresh`. Setting `thresh=0.05`, but please update your code.\n",
      "  warnings.warn(msg, UserWarning)\n"
     ]
    }
   ],
   "source": [
    "density_2d(u, mc, \n",
    "            line_label=r'$u^\\mathrm{MC}$', hist_label=r'model(z, $\\mathrm{cond}_\\mathrm{MC}$)=$\\hat{u}$', \n",
    "            xlim = [-160, 100], ylim = [-80, 30], save_as=args.output+'2d_comp_umc_to_mc.pdf')"
   ]
  },
  {
   "cell_type": "code",
   "execution_count": null,
   "metadata": {},
   "outputs": [],
   "source": []
  },
  {
   "cell_type": "code",
   "execution_count": null,
   "metadata": {},
   "outputs": [],
   "source": []
  },
  {
   "cell_type": "markdown",
   "metadata": {},
   "source": [
    "# ### Compare MC -> Data"
   ]
  },
  {
   "cell_type": "code",
   "execution_count": 45,
   "metadata": {},
   "outputs": [],
   "source": [
    "# u parallel\n",
    "interval = [-170, 100]\n",
    "_ = plt.hist(u[:,0], density=True, bins=100, range=interval, label=r'model(z,$c^\\mathrm{MC}$)=$u_\\parallel$')\n",
    "_ = plt.hist(data[:,0], histtype=u'step', density=True, bins=100, \n",
    "                range=interval, linewidth=2, color='black', label=r'$u^\\mathrm{Data}_\\parallel$')\n",
    "_ = plt.hist(dfmc['uP2_uncorrected'].values, histtype=u'step', density=True, bins=100, \n",
    "                range=interval, linewidth=2, color='red', label=r'$u^\\mathrm{MC}_\\perp $ uncorrected')\n",
    "plt.xlabel(r'$u_\\perp$')\n",
    "plt.ylabel('a. u.')\n",
    "plt.legend()\n",
    "plt.savefig(args.output+'u_perp.pdf')\n",
    "plt.clf()"
   ]
  },
  {
   "cell_type": "code",
   "execution_count": 46,
   "metadata": {
    "lines_to_next_cell": 2
   },
   "outputs": [],
   "source": [
    "# response\n",
    "response(uperp=u[:,0], ptz=dfmc['pt_vis_c'], \n",
    "            save_path=args.output+'response.pdf', \n",
    "            cut_max=200, cut_min=25)"
   ]
  },
  {
   "cell_type": "markdown",
   "metadata": {
    "lines_to_next_cell": 2
   },
   "source": [
    "n, bins, edges = plt.hist(up, histtype=r'step', bins=200, range=[-200, 200], \n",
    "                            density=True, label=r'$\\mathrm{u}_\\parallel$')\n",
    "n1, bins1, edges1 = plt.hist(ptz, histtype=r'step', bins=200, range=[-200, 200], \n",
    "                                density=True, label=r'$p_\\mathrm{T}^Z}\\rangle$')\n",
    "plt.xlim([-200, 200])\n",
    "plt.legend()\n",
    "plt.xlabel('GeV')\n",
    "plt.ylabel('a.u.')\n",
    "plt.savefig(args.output+'uperp_ptw.pdf')\n",
    "plt.clf()"
   ]
  },
  {
   "cell_type": "code",
   "execution_count": 47,
   "metadata": {},
   "outputs": [],
   "source": [
    "csingle_event = torch.concat([cmc[100,:].unsqueeze(0)]*10000)"
   ]
  },
  {
   "cell_type": "code",
   "execution_count": 48,
   "metadata": {},
   "outputs": [],
   "source": [
    "z = pz.sample((csingle_event.shape[0], ))\n",
    "u, _ = evaluate_sequential(model, z, cond=csingle_event.float(), rev=True)\n",
    "\n",
    "u = input_scaler.inverse_transform(u)"
   ]
  },
  {
   "cell_type": "code",
   "execution_count": 49,
   "metadata": {},
   "outputs": [
    {
     "name": "stderr",
     "output_type": "stream",
     "text": [
      "/ceph/lsowa/envs/cluster/lib/python3.6/site-packages/seaborn/distributions.py:1718: UserWarning: `shade_lowest` is now deprecated in favor of `thresh`. Setting `thresh=0.05`, but please update your code.\n",
      "  warnings.warn(msg, UserWarning)\n"
     ]
    }
   ],
   "source": [
    "density_2d(u, mc, \n",
    "            line_label=r'target $y_\\mathrm{MC}$', hist_label=r'model(z, $\\mathrm{cond}^\\mathrm{fixed}_\\mathrm{MC}$)=$\\hat{y}$', \n",
    "            xlim = [-160, 100], ylim = [-80, 30], save_as=args.output+'fixedevent.pdf')"
   ]
  },
  {
   "cell_type": "code",
   "execution_count": 50,
   "metadata": {},
   "outputs": [
    {
     "name": "stderr",
     "output_type": "stream",
     "text": [
      "/work/lsowa/recoil_correction/helpers.py:123: UserWarning: To copy construct from a tensor, it is recommended to use sourceTensor.clone().detach() or sourceTensor.clone().detach().requires_grad_(True), rather than torch.tensor(sourceTensor).\n",
      "  cond = torch.tensor(cond)\n"
     ]
    }
   ],
   "source": [
    "z = pz.sample((cdata[:100000,:].shape[0], ))\n",
    "layerwise2d(model, z, cond=cdata[:100000,:], save_path=args.output+'layerwise.pdf', xlim=[-150, 100], ylim=[-80, 30], input_scaler=input_scaler)"
   ]
  },
  {
   "cell_type": "code",
   "execution_count": null,
   "id": "b5154310",
   "metadata": {},
   "outputs": [],
   "source": [
    "for cond_no, cond_name in enumerate(cond):\n",
    "    condition_correlation(model=model,\n",
    "                            cond=cdata,\n",
    "                            cond_no=cond_no,\n",
    "                            deltas=np.linspace(-3, 3, 21),\n",
    "                            input_scaler=input_scaler,\n",
    "                            save_path=args.output+'cond_scan_' + cond_name + '.pdf',\n",
    "                            cond_name= r'$\\Delta$',\n",
    "                            xlim=[-100, 80],\n",
    "                            device=torch.device(args.output),\n",
    "                            title = cond_name + r'+$\\Delta\\cdot \\sigma_\\mathrm(' + cond_name + ')$')\n",
    "    print(cond_name, 'done')"
   ]
  }
 ],
 "metadata": {
  "jupytext": {
   "formats": "ipynb,py"
  },
  "kernelspec": {
   "display_name": "Python 3.6.9 ('cluster')",
   "language": "python",
   "name": "python3"
  },
  "language_info": {
   "codemirror_mode": {
    "name": "ipython",
    "version": 3
   },
   "file_extension": ".py",
   "mimetype": "text/x-python",
   "name": "python",
   "nbconvert_exporter": "python",
   "pygments_lexer": "ipython3",
   "version": "3.6.9"
  },
  "vscode": {
   "interpreter": {
    "hash": "b005ab6eda12d21ebceb8ef5791a16fc55b2ce86fd289021a8c5462e4b8c3e2c"
   }
  }
 },
 "nbformat": 4,
 "nbformat_minor": 2
}
