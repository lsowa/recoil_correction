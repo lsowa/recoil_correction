{
 "cells": [
  {
   "cell_type": "code",
   "execution_count": 1,
   "metadata": {},
   "outputs": [],
   "source": [
    "import torch\n",
    "import torch.nn as nn\n",
    "import FrEIA.framework as Ff\n",
    "import FrEIA.modules as Fm\n",
    "import pandas as pd\n",
    "import torch.distributions as dist\n",
    "import matplotlib.pyplot as plt\n",
    "import torch.optim as optim\n",
    "import numpy as np\n",
    "import matplotlib\n",
    "\n",
    "from os.path import exists\n",
    "from helpers import *\n",
    "from torch.utils.data import DataLoader, TensorDataset\n",
    "from sklearn.model_selection import train_test_split\n",
    "from sklearn.preprocessing import StandardScaler\n",
    "from argparse import ArgumentParser\n",
    "\n",
    "matplotlib.rcParams['figure.figsize'] = [15, 10]\n",
    "plt.rcParams.update({'axes.labelsize': 14})"
   ]
  },
  {
   "cell_type": "code",
   "execution_count": 56,
   "metadata": {},
   "outputs": [
    {
     "data": {
      "text/plain": [
       "_StoreAction(option_strings=['--test'], dest='test', nargs=None, const=None, default=0, type=<class 'int'>, choices=None, help='Test run {True, False}', metavar=None)"
      ]
     },
     "execution_count": 56,
     "metadata": {},
     "output_type": "execute_result"
    }
   ],
   "source": [
    "parser = ArgumentParser()\n",
    "parser.add_argument(\"-c\", \"--cuda\", dest=\"cuda\", default=0, type=int, help='Cuda number')\n",
    "parser.add_argument(\"--batch\", dest=\"batch\", default=5000, type=int, help='batch size')\n",
    "parser.add_argument(\"--lr\", dest=\"lr\", default=0.001, type=float, help='learning rate')\n",
    "parser.add_argument(\"--test\", dest=\"test\", default=0, type=int, help='Test run {True, False}')"
   ]
  },
  {
   "cell_type": "code",
   "execution_count": 57,
   "id": "3a5ed363",
   "metadata": {},
   "outputs": [
    {
     "data": {
      "text/plain": [
       "_StoreAction(option_strings=['--nn-nodes'], dest='nn_nodes', nargs=None, const=None, default=150, type=<class 'int'>, choices=None, help='Number of hidden nodes for NN', metavar=None)"
      ]
     },
     "execution_count": 57,
     "metadata": {},
     "output_type": "execute_result"
    }
   ],
   "source": [
    "parser.add_argument(\"-f\", '--flows', dest=\"flows\", default=2, type=int, help='Number of flows')\n",
    "parser.add_argument(\"--nn-hidden\", dest=\"nn_hidden\", default=2, type=int, help='Number of hidden layers for the NN')\n",
    "parser.add_argument(\"--nn-nodes\", dest=\"nn_nodes\", default=150, type=int, help='Number of hidden nodes for NN')"
   ]
  },
  {
   "cell_type": "code",
   "execution_count": 58,
   "id": "f730d18e",
   "metadata": {},
   "outputs": [],
   "source": [
    "args = parser.parse_args()"
   ]
  },
  {
   "cell_type": "code",
   "execution_count": 59,
   "metadata": {},
   "outputs": [],
   "source": [
    "folder = 'output/'\n",
    "ensure_dir(folder)\n",
    "device = torch.device('cuda:'+str(args.cuda))"
   ]
  },
  {
   "cell_type": "code",
   "execution_count": 44,
   "id": "2df2d257",
   "metadata": {},
   "outputs": [
    {
     "name": "stdout",
     "output_type": "stream",
     "text": [
      "Reading:  /ceph/lsowa/recoil/dt.root\n",
      "Reading:  /ceph/lsowa/recoil/mc.root\n"
     ]
    }
   ],
   "source": [
    "if exists('/ceph/lsowa/recoil/dt.root'):\n",
    "    dfdata = load_from_root('/ceph/lsowa/recoil/dt.root', test=args.test)\n",
    "    dfmc = load_from_root('/ceph/lsowa/recoil/mc.root', test=args.test)\n",
    "else:\n",
    "    # when running on cluster\n",
    "    dfdata = load_from_root('recoil/dt.root', test=args.test)\n",
    "    dfmc = load_from_root('recoil/mc.root', test=args.test)"
   ]
  },
  {
   "cell_type": "code",
   "execution_count": 101,
   "metadata": {},
   "outputs": [
    {
     "name": "stdout",
     "output_type": "stream",
     "text": [
      "MC shape  (2189044, 213)\n",
      "Data shape  (1796149, 172)\n"
     ]
    }
   ],
   "source": [
    "print('MC shape ', dfmc.shape)\n",
    "print('Data shape ', dfdata.shape)"
   ]
  },
  {
   "cell_type": "code",
   "execution_count": 102,
   "metadata": {
    "lines_to_next_cell": 2
   },
   "outputs": [],
   "source": [
    "cond = ['pt_vis_c', 'phi_vis_c', 'dxyErr_1', 'dxyErr_2', 'dxy_1', 'dxy_2',  'dxybs_1',\n",
    "        'dxybs_2', 'dzErr_1', 'dzErr_2', 'dz_1', 'dz_2', 'eta_1', 'eta_2', 'highPtId_1',\n",
    "        'highPtId_2', 'highPurity_1', 'highPurity_2', 'mass_1', 'mass_2', 'metSumEt', 'metcov00',\n",
    "        'metcov01', 'metcov10', 'metcov11', 'metphi', 'mjj', 'phi_1', 'phi_2', 'ptErr_1', \n",
    "        'ptErr_2', 'pt_1', 'pt_2']\n",
    "cond = ['metphi','pt_vis_c', 'phi_vis_c','pt_1', 'pt_2','dxy_1', 'dxy_2','dz_1',\n",
    "        'dz_2','eta_1', 'eta_2','mass_1', 'mass_2','metSumEt']\n",
    "names = ['uP1_uncorrected', 'uP2_uncorrected']"
   ]
  },
  {
   "cell_type": "code",
   "execution_count": 108,
   "metadata": {},
   "outputs": [],
   "source": [
    "data = dfdata[names].to_numpy().astype(float)\n",
    "mc = dfmc[names].to_numpy().astype(float)\n",
    "cdata = dfdata[cond].to_numpy().astype(float)\n",
    "cmc = dfmc[cond].to_numpy().astype(float)"
   ]
  },
  {
   "cell_type": "code",
   "execution_count": 109,
   "id": "7ace47da",
   "metadata": {},
   "outputs": [],
   "source": [
    "ptz = dfmc['pt_vis_c']"
   ]
  },
  {
   "cell_type": "code",
   "execution_count": 110,
   "id": "b5273390",
   "metadata": {
    "lines_to_next_cell": 2
   },
   "outputs": [],
   "source": [
    "if False:#args.test:\n",
    "    n = 2000\n",
    "    data = data[:n,:]\n",
    "    cdata = cdata[:n,:]\n",
    "    #mc = mc[:n,:]\n",
    "    #cmc = cmc[:n,:]\n",
    "    #ptz = ptz[:n] # MC"
   ]
  },
  {
   "cell_type": "code",
   "execution_count": 111,
   "id": "a9a3c150",
   "metadata": {
    "lines_to_next_cell": 0
   },
   "outputs": [],
   "source": [
    "# Z standardize inputs"
   ]
  },
  {
   "cell_type": "code",
   "execution_count": 112,
   "metadata": {},
   "outputs": [],
   "source": [
    "input_scaler = StandardScaler()\n",
    "data = input_scaler.fit_transform(data)\n",
    "mc = input_scaler.transform(mc)\n",
    "\n",
    "cond_scaler = StandardScaler()\n",
    "cdata = cond_scaler.fit_transform(cdata)\n",
    "cmc = cond_scaler.transform(cmc)"
   ]
  },
  {
   "cell_type": "code",
   "execution_count": 115,
   "metadata": {},
   "outputs": [],
   "source": [
    "data, data_val, cdata, cdata_val = train_test_split(data, cdata, test_size=0.2)"
   ]
  },
  {
   "cell_type": "code",
   "execution_count": 116,
   "id": "dc7ff570",
   "metadata": {
    "lines_to_next_cell": 1
   },
   "outputs": [],
   "source": [
    "data, mc, cdata, cmc = torch.tensor(data), torch.tensor(mc), torch.tensor(cdata), torch.tensor(cmc)\n",
    "data_val, cdata_val = torch.tensor(data_val).to(device), torch.tensor(cdata_val).to(device)"
   ]
  },
  {
   "cell_type": "code",
   "execution_count": null,
   "metadata": {},
   "outputs": [],
   "source": [
    "print('Train (Data): ', data.shape, ' Conditions: ', cdata.shape)\n",
    "print('Val (Data): ', data_val.shape, ' Conditions: ', cdata_val.shape)\n",
    "print('Test (MC): ', mc.shape, ' Conditions: ', cmc.shape)"
   ]
  },
  {
   "cell_type": "markdown",
   "id": "22a45c7f",
   "metadata": {},
   "source": [
    "Setup Model"
   ]
  },
  {
   "cell_type": "code",
   "execution_count": 117,
   "metadata": {
    "lines_to_next_cell": 1
   },
   "outputs": [],
   "source": [
    "def mlp_constructor(input_dim=2, out_dim=2, hidden_nodes=args.nn_nodes):\n",
    "    \n",
    "    layers = [nn.Linear(input_dim, hidden_nodes), nn.ReLU()]\n",
    "    for n in range(args.nn_hidden-1):\n",
    "        layers.append(nn.Linear(hidden_nodes, hidden_nodes))\n",
    "        layers.append(nn.ReLU())\n",
    "    layers.append(nn.Linear(hidden_nodes, out_dim))\n",
    "    \n",
    "    model = nn.Sequential(*layers)\n",
    "    return model"
   ]
  },
  {
   "cell_type": "code",
   "execution_count": 118,
   "metadata": {},
   "outputs": [],
   "source": [
    "model = Ff.SequenceINN(2)\n",
    "for k in range(args.flows):\n",
    "    model.append(Fm.RNVPCouplingBlock, subnet_constructor=mlp_constructor, \n",
    "                    clamp=2, cond=0, cond_shape=(cmc.shape[1],))"
   ]
  },
  {
   "cell_type": "markdown",
   "id": "f0d4ed43",
   "metadata": {},
   "source": [
    "\n",
    "Training\n"
   ]
  },
  {
   "cell_type": "code",
   "execution_count": 119,
   "metadata": {},
   "outputs": [],
   "source": [
    "optimizer = optim.Adam(model.parameters(), lr=args.lr)\n",
    "scheduler = optim.lr_scheduler.ReduceLROnPlateau(optimizer, factor=0.25, \n",
    "                                                    patience=3, verbose=True)"
   ]
  },
  {
   "cell_type": "code",
   "execution_count": 120,
   "metadata": {},
   "outputs": [
    {
     "data": {
      "text/plain": [
       "torch.Size([1436919, 14])"
      ]
     },
     "execution_count": 120,
     "metadata": {},
     "output_type": "execute_result"
    }
   ],
   "source": [
    "cdata.shape"
   ]
  },
  {
   "cell_type": "code",
   "execution_count": 121,
   "metadata": {},
   "outputs": [],
   "source": [
    "dataset = TensorDataset(data, cdata)\n",
    "loader = DataLoader(dataset, shuffle=True, batch_size=args.batch, num_workers=4)"
   ]
  },
  {
   "cell_type": "code",
   "execution_count": 125,
   "metadata": {
    "lines_to_end_of_cell_marker": 2,
    "lines_to_next_cell": 0
   },
   "outputs": [
    {
     "name": "stdout",
     "output_type": "stream",
     "text": [
      "Epoch: 1; train Loss: -3.592; val Loss: -3.76; stopper: 0; best loss: -3.762\n",
      "\n",
      "Epoch: 2; train Loss: -3.697; val Loss: -3.84; stopper: 0; best loss: -3.844\n",
      "\n",
      "Epoch: 3; train Loss: -3.793; val Loss: -3.73; stopper: 1; best loss: -3.844\n",
      "\n",
      "Epoch: 4; train Loss: -3.861; val Loss: -3.91; stopper: 0; best loss: -3.912\n",
      "\n",
      "Epoch: 5; train Loss: -3.889; val Loss: -4.08; stopper: 0; best loss: -4.080\n",
      "\n",
      "Epoch: 6; train Loss: -3.925; val Loss: -3.8; stopper: 1; best loss: -4.080\n",
      "\n"
     ]
    },
    {
     "ename": "KeyboardInterrupt",
     "evalue": "",
     "output_type": "error",
     "traceback": [
      "\u001b[0;31m---------------------------------------------------------------------------\u001b[0m",
      "\u001b[0;31mKeyboardInterrupt\u001b[0m                         Traceback (most recent call last)",
      "\u001b[0;32m<ipython-input-125-60afb4a0fe25>\u001b[0m in \u001b[0;36m<module>\u001b[0;34m\u001b[0m\n\u001b[1;32m     27\u001b[0m         \u001b[0mloss\u001b[0m\u001b[0;34m.\u001b[0m\u001b[0mbackward\u001b[0m\u001b[0;34m(\u001b[0m\u001b[0;34m)\u001b[0m\u001b[0;34m\u001b[0m\u001b[0;34m\u001b[0m\u001b[0m\n\u001b[1;32m     28\u001b[0m         \u001b[0moptimizer\u001b[0m\u001b[0;34m.\u001b[0m\u001b[0mstep\u001b[0m\u001b[0;34m(\u001b[0m\u001b[0;34m)\u001b[0m\u001b[0;34m\u001b[0m\u001b[0;34m\u001b[0m\u001b[0m\n\u001b[0;32m---> 29\u001b[0;31m         \u001b[0mepo_loss\u001b[0m \u001b[0;34m+=\u001b[0m \u001b[0mloss\u001b[0m\u001b[0;34m.\u001b[0m\u001b[0mcpu\u001b[0m\u001b[0;34m(\u001b[0m\u001b[0;34m)\u001b[0m\u001b[0;34m.\u001b[0m\u001b[0mdetach\u001b[0m\u001b[0;34m(\u001b[0m\u001b[0;34m)\u001b[0m\u001b[0;34m.\u001b[0m\u001b[0mnumpy\u001b[0m\u001b[0;34m(\u001b[0m\u001b[0;34m)\u001b[0m\u001b[0;34m\u001b[0m\u001b[0;34m\u001b[0m\u001b[0m\n\u001b[0m\u001b[1;32m     30\u001b[0m     \u001b[0mepo_loss\u001b[0m \u001b[0;34m/=\u001b[0m \u001b[0mnbatches\u001b[0m\u001b[0;34m\u001b[0m\u001b[0;34m\u001b[0m\u001b[0m\n\u001b[1;32m     31\u001b[0m     \u001b[0mepo_loss\u001b[0m \u001b[0;34m=\u001b[0m \u001b[0mround\u001b[0m\u001b[0;34m(\u001b[0m\u001b[0mepo_loss\u001b[0m\u001b[0;34m,\u001b[0m\u001b[0;36m5\u001b[0m\u001b[0;34m)\u001b[0m\u001b[0;34m\u001b[0m\u001b[0;34m\u001b[0m\u001b[0m\n",
      "\u001b[0;31mKeyboardInterrupt\u001b[0m: "
     ]
    }
   ],
   "source": [
    "pz = dist.MultivariateNormal(torch.zeros(2), torch.eye(2))\n",
    "model.to(device)\n",
    "\n",
    "def nll(z, log_jac):\n",
    "    zz = torch.sum(z**2, dim=-1)\n",
    "    neg_log_likeli = 0.5 * zz - log_jac\n",
    "    loss = torch.mean(neg_log_likeli)\n",
    "    return loss\n",
    "\n",
    "losses = []\n",
    "losses_val = []\n",
    "nbatches = len(loader)\n",
    "stopper=0\n",
    "best_loss=np.inf\n",
    "epoch = 0\n",
    "best_model_dict = None\n",
    "while stopper<=15:\n",
    "    epo_loss = 0\n",
    "    for d, c in loader:\n",
    "        d = d.to(device)\n",
    "        c = c.to(device)\n",
    "        \n",
    "        z, log_jac = model(d.float(), c=[c.float()])\n",
    "        loss = nll(z, log_jac)\n",
    "        \n",
    "        optimizer.zero_grad()\n",
    "        loss.backward()\n",
    "        optimizer.step()\n",
    "        epo_loss += loss.cpu().detach().numpy()\n",
    "    epo_loss /= nbatches\n",
    "    epo_loss = round(epo_loss,5)\n",
    "    scheduler.step(epo_loss)\n",
    "    losses.append(epo_loss)\n",
    "    \n",
    "    # validation\n",
    "    z, log_jac = model(data_val.float(), c=[cdata_val.float()])\n",
    "    loss_val = nll(z, log_jac)\n",
    "    loss_val = loss_val.cpu().detach().numpy()\n",
    "    losses_val.append(loss_val)\n",
    "    if loss_val >= best_loss: \n",
    "        stopper+=1\n",
    "    else:\n",
    "        best_loss = loss_val\n",
    "        stopper = 0\n",
    "        best_model_dict = model.state_dict()\n",
    "    epoch += 1\n",
    "    print('Epoch: {:.0f}; train Loss: {:.3f}; val Loss: {:.3f}; stopper: {:.0f}; best val loss: {:.3f}\\n'.format(epoch, epo_loss, loss_val, stopper, best_loss))\n",
    "    \n",
    "    if epoch >= args.test and args.test > 0:\n",
    "        break"
   ]
  },
  {
   "cell_type": "code",
   "execution_count": 126,
   "metadata": {},
   "outputs": [
    {
     "data": {
      "image/png": "[encoded data removed]",
      "text/plain": [
       "<Figure size 1080x720 with 1 Axes>"
      ]
     },
     "metadata": {
      "needs_background": "light"
     },
     "output_type": "display_data"
    }
   ],
   "source": [
    "plt.plot(losses, label='training')\n",
    "plt.plot(losses_val, label='validation')\n",
    "plt.vlines(len(losses)-stopper, ymin=np.min(losses), ymax=np.max(losses), \n",
    "            label='best model', colors=['grey'])\n",
    "plt.xlabel('Epochs')\n",
    "plt.ylabel('Loss')\n",
    "plt.legend()\n",
    "plt.savefig(folder+'loss.pdf')"
   ]
  },
  {
   "cell_type": "code",
   "execution_count": null,
   "id": "54bbce23",
   "metadata": {},
   "outputs": [],
   "source": [
    "model.load_state_dict(best_model_dict)\n",
    "torch.save(model.state_dict(), folder+'model.pt')\n",
    "os.system('cp ' + os.path.basename(__file__) + ' ' + folder + 'code.py') "
   ]
  },
  {
   "cell_type": "code",
   "execution_count": 116,
   "metadata": {},
   "outputs": [
    {
     "data": {
      "text/plain": [
       "Text(0, 0.5, 'Loss')"
      ]
     },
     "execution_count": 116,
     "metadata": {},
     "output_type": "execute_result"
    },
    {
     "data": {
      "image/png": "[encoded data removed]",
      "text/plain": [
       "<Figure size 432x288 with 1 Axes>"
      ]
     },
     "metadata": {
      "needs_background": "light"
     },
     "output_type": "display_data"
    }
   ],
   "source": [
    "print('Training done')"
   ]
  }
 ],
 "metadata": {
  "jupytext": {
   "formats": "ipynb,py"
  },
  "kernelspec": {
   "display_name": "Python 3.6.9 ('cluster')",
   "language": "python",
   "name": "python3"
  },
  "language_info": {
   "codemirror_mode": {
    "name": "ipython",
    "version": 3
   },
   "file_extension": ".py",
   "mimetype": "text/x-python",
   "name": "python",
   "nbconvert_exporter": "python",
   "pygments_lexer": "ipython3",
   "version": "3.6.9"
  },
  "vscode": {
   "interpreter": {
    "hash": "51d79ee5a382be89a01a9124be8ffc10729a209d43e3ab0e2c741d5f20c6cac5"
   }
  }
 },
 "nbformat": 4,
 "nbformat_minor": 2
}
