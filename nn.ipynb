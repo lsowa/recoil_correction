{
 "cells": [
  {
   "cell_type": "code",
   "execution_count": 1,
   "metadata": {},
   "outputs": [],
   "source": [
    "\n",
    "import torch\n",
    "import matplotlib.pyplot as plt\n",
    "import numpy as np\n",
    "import torch.optim as optim\n",
    "import os\n",
    "import matplotlib\n",
    "\n",
    "from torch import nn\n",
    "from helpers import *\n",
    "from sklearn.model_selection import train_test_split\n",
    "from sklearn.preprocessing import StandardScaler\n",
    "from os.path import exists\n",
    "from argparse import ArgumentParser\n",
    "\n",
    "matplotlib.use('Agg')"
   ]
  },
  {
   "cell_type": "code",
   "execution_count": 2,
   "metadata": {},
   "outputs": [
    {
     "name": "stdout",
     "output_type": "stream",
     "text": [
      "Namespace(batch=500, cuda=0, lr=0.01, nn_hidden=3, nn_nodes=200, output='nn_dummy/', test=0)\n"
     ]
    }
   ],
   "source": [
    "\n",
    "parser = ArgumentParser()\n",
    "\n",
    "parser.add_argument(\"-c\", \"--cuda\", dest=\"cuda\", default=0, type=int, help='Cuda number')\n",
    "parser.add_argument(\"--nn-hidden\", dest=\"nn_hidden\", default=3, type=int, help='Number of hidden layers for the NN')\n",
    "parser.add_argument(\"--nn-nodes\", dest=\"nn_nodes\", default=200, type=int, help='Number of hidden nodes for NN')\n",
    "parser.add_argument(\"--lr\", dest=\"lr\", default=0.01, type=float, help='Learning rate (to start with)')\n",
    "parser.add_argument(\"--batch\", dest=\"batch\", default=500, type=int, help='Batch Size')\n",
    "parser.add_argument(\"--output\", dest=\"output\", default='nn_dummy/', type=str, help='Path for output files')\n",
    "parser.add_argument(\"--test\", dest=\"test\", default=0, type=int, help='Test run {True, False}')\n",
    "args = parser.parse_args()\n",
    "# pass default arguments if executed as ipynb\n",
    "try: \n",
    "    if get_ipython().__class__.__name__ == 'ZMQInteractiveShell': args = parser.parse_args(\"\") \n",
    "except:\n",
    "    args = parser.parse_args()"
   ]
  },
  {
   "cell_type": "code",
   "execution_count": 3,
   "metadata": {},
   "outputs": [],
   "source": [
    "ensure_dir(args.output)\n",
    "device = args.cuda"
   ]
  },
  {
   "cell_type": "code",
   "execution_count": 4,
   "metadata": {},
   "outputs": [],
   "source": [
    "#\n",
    "# Load data\n",
    "#"
   ]
  },
  {
   "cell_type": "code",
   "execution_count": 5,
   "metadata": {},
   "outputs": [
    {
     "name": "stdout",
     "output_type": "stream",
     "text": [
      "Reading files from:  /ceph/lsowa/recoil/dt.root\n",
      "No.  1\n",
      "No.  2\n",
      "No.  3\n",
      "No.  4\n",
      "No.  5\n",
      "Reading files from:  /ceph/lsowa/recoil/mc.root\n",
      "No.  1\n",
      "No.  2\n",
      "No.  3\n",
      "No.  4\n",
      "No.  5\n",
      "No.  6\n",
      "No.  7\n"
     ]
    }
   ],
   "source": [
    "if exists('/ceph/lsowa/recoil/dt.root'):\n",
    "    # when on local machine\n",
    "    dfdata = load_from_root('/ceph/lsowa/recoil/dt.root', test=args.test)\n",
    "    dfmc = load_from_root('/ceph/lsowa/recoil/mc.root', test=args.test)\n",
    "else:\n",
    "    # when running on cluster\n",
    "    dfdata = load_from_root('recoil/dt.root', test=args.test)\n",
    "    dfmc = load_from_root('recoil/mc.root', test=args.test)"
   ]
  },
  {
   "cell_type": "code",
   "execution_count": 6,
   "metadata": {},
   "outputs": [],
   "source": [
    "cond = ['metphi','pt_vis_c', 'phi_vis_c','pt_1', 'pt_2','dxy_1', 'dxy_2','dz_1',\n",
    "        'dz_2','eta_1', 'eta_2','mass_1', 'mass_2','metSumEt']\n",
    "names = ['uP1_uncorrected', 'uP2_uncorrected']"
   ]
  },
  {
   "cell_type": "code",
   "execution_count": 7,
   "metadata": {},
   "outputs": [],
   "source": [
    "data = dfdata[names].to_numpy().astype(float)\n",
    "mc = dfmc[names].to_numpy().astype(float)\n",
    "cdata = dfdata[cond].to_numpy().astype(float)\n",
    "cmc = dfmc[cond].to_numpy().astype(float)"
   ]
  },
  {
   "cell_type": "code",
   "execution_count": null,
   "id": "cfb04d64",
   "metadata": {},
   "outputs": [],
   "source": [
    "del dfdata, dfmc"
   ]
  },
  {
   "cell_type": "code",
   "execution_count": 8,
   "metadata": {},
   "outputs": [],
   "source": [
    "#\n",
    "# Preprocess data\n",
    "#"
   ]
  },
  {
   "cell_type": "code",
   "execution_count": 9,
   "metadata": {},
   "outputs": [],
   "source": [
    "# Z standardize inputs\n",
    "input_scaler = StandardScaler()\n",
    "data = input_scaler.fit_transform(data)\n",
    "mc = input_scaler.transform(mc)\n",
    "\n",
    "cond_scaler = StandardScaler()\n",
    "cdata = cond_scaler.fit_transform(cdata)\n",
    "cmc = cond_scaler.transform(cmc)"
   ]
  },
  {
   "cell_type": "code",
   "execution_count": 10,
   "metadata": {},
   "outputs": [],
   "source": [
    "# train test split\n",
    "data, data_val, cdata, cdata_val = train_test_split(data, cdata, test_size=0.2)\n",
    "\n",
    "data, mc, cdata, cmc = torch.tensor(data), torch.tensor(mc), torch.tensor(cdata), torch.tensor(cmc)\n",
    "data_val, cdata_val = torch.tensor(data_val).to(device), torch.tensor(cdata_val).to(device)"
   ]
  },
  {
   "cell_type": "code",
   "execution_count": 11,
   "metadata": {},
   "outputs": [
    {
     "name": "stderr",
     "output_type": "stream",
     "text": [
      "/ceph/lsowa/envs/cluster/lib/python3.6/site-packages/ipykernel_launcher.py:1: UserWarning: To copy construct from a tensor, it is recommended to use sourceTensor.clone().detach() or sourceTensor.clone().detach().requires_grad_(True), rather than torch.tensor(sourceTensor).\n",
      "  \"\"\"Entry point for launching an IPython kernel.\n"
     ]
    }
   ],
   "source": [
    "data, mc, cdata, cmc = torch.tensor(data), torch.tensor(mc), torch.tensor(cdata), torch.tensor(cmc)"
   ]
  },
  {
   "cell_type": "code",
   "execution_count": 12,
   "metadata": {
    "lines_to_next_cell": 2
   },
   "outputs": [
    {
     "name": "stdout",
     "output_type": "stream",
     "text": [
      "Train (Data):  torch.Size([1436919, 2])  Conditions:  torch.Size([1436919, 14])\n",
      "Val (Data):  torch.Size([359230, 2])  Conditions:  torch.Size([359230, 14])\n",
      "Test (MC):  torch.Size([2189044, 2])  Conditions:  torch.Size([2189044, 14])\n"
     ]
    }
   ],
   "source": [
    "print('Train (Data): ', data.shape, ' Conditions: ', cdata.shape)\n",
    "print('Val (Data): ', data_val.shape, ' Conditions: ', cdata_val.shape)\n",
    "print('Test (MC): ', mc.shape, ' Conditions: ', cmc.shape)"
   ]
  },
  {
   "cell_type": "code",
   "execution_count": 13,
   "metadata": {},
   "outputs": [],
   "source": [
    "#\n",
    "# Model Setup\n",
    "#"
   ]
  },
  {
   "cell_type": "code",
   "execution_count": 14,
   "metadata": {},
   "outputs": [],
   "source": [
    "\n",
    "\n",
    "model = Mlp(input_neurons=cdata.shape[1], hidden_neurons=args.nn_nodes, output_neurons=2, hiddenlayers=args.nn_hidden)"
   ]
  },
  {
   "cell_type": "code",
   "execution_count": 15,
   "metadata": {},
   "outputs": [],
   "source": [
    "#\n",
    "# model training\n",
    "#"
   ]
  },
  {
   "cell_type": "code",
   "execution_count": 16,
   "metadata": {},
   "outputs": [],
   "source": [
    "optimizer = optim.Adam(model.parameters(), lr=args.lr)\n",
    "scheduler = optim.lr_scheduler.ReduceLROnPlateau(optimizer, factor=0.25, \n",
    "                                                    patience=3, verbose=True)\n",
    "mse = nn.MSELoss()"
   ]
  },
  {
   "cell_type": "code",
   "execution_count": 17,
   "metadata": {},
   "outputs": [],
   "source": [
    "#data, cdata = data[:100,:].to(device), cdata[:100,:].to(device)\n",
    "dataset = TensorDataset(data, cdata)\n",
    "loader = DataLoader(dataset, shuffle=True, batch_size=args.batch, num_workers=4, pin_memory=True)"
   ]
  },
  {
   "cell_type": "code",
   "execution_count": null,
   "metadata": {},
   "outputs": [],
   "source": []
  },
  {
   "cell_type": "code",
   "execution_count": 18,
   "metadata": {},
   "outputs": [
    {
     "name": "stdout",
     "output_type": "stream",
     "text": [
      "Epoch: 1; train Loss: 0.657; val Loss: 0.649; stopper: 0; best val loss: 0.649\n",
      "\n",
      "Epoch: 2; train Loss: 0.644; val Loss: 0.643; stopper: 0; best val loss: 0.643\n",
      "\n",
      "Epoch: 3; train Loss: 0.644; val Loss: 0.643; stopper: 0; best val loss: 0.643\n",
      "\n",
      "Epoch: 4; train Loss: 0.644; val Loss: 0.644; stopper: 1; best val loss: 0.643\n",
      "\n",
      "Epoch: 5; train Loss: 0.644; val Loss: 0.642; stopper: 0; best val loss: 0.642\n",
      "\n",
      "Epoch: 6; train Loss: 0.643; val Loss: 0.641; stopper: 0; best val loss: 0.641\n",
      "\n",
      "Epoch: 7; train Loss: 0.643; val Loss: 0.643; stopper: 1; best val loss: 0.641\n",
      "\n",
      "Epoch: 8; train Loss: 0.643; val Loss: 0.643; stopper: 2; best val loss: 0.641\n",
      "\n",
      "Epoch: 9; train Loss: 0.642; val Loss: 0.641; stopper: 0; best val loss: 0.641\n",
      "\n",
      "Epoch: 10; train Loss: 0.643; val Loss: 0.643; stopper: 1; best val loss: 0.641\n",
      "\n",
      "Epoch: 11; train Loss: 0.643; val Loss: 0.641; stopper: 0; best val loss: 0.641\n",
      "\n",
      "Epoch: 12; train Loss: 0.642; val Loss: 0.641; stopper: 1; best val loss: 0.641\n",
      "\n",
      "Epoch    13: reducing learning rate of group 0 to 2.5000e-03.\n",
      "Epoch: 13; train Loss: 0.643; val Loss: 0.645; stopper: 2; best val loss: 0.641\n",
      "\n",
      "Epoch: 14; train Loss: 0.638; val Loss: 0.638; stopper: 0; best val loss: 0.638\n",
      "\n",
      "Epoch: 15; train Loss: 0.638; val Loss: 0.638; stopper: 1; best val loss: 0.638\n",
      "\n",
      "Epoch: 16; train Loss: 0.638; val Loss: 0.638; stopper: 2; best val loss: 0.638\n",
      "\n",
      "Epoch: 17; train Loss: 0.638; val Loss: 0.638; stopper: 3; best val loss: 0.638\n",
      "\n",
      "Epoch: 18; train Loss: 0.638; val Loss: 0.638; stopper: 0; best val loss: 0.638\n",
      "\n",
      "Epoch: 19; train Loss: 0.638; val Loss: 0.638; stopper: 1; best val loss: 0.638\n",
      "\n",
      "Epoch: 20; train Loss: 0.638; val Loss: 0.638; stopper: 2; best val loss: 0.638\n",
      "\n",
      "Epoch: 21; train Loss: 0.638; val Loss: 0.639; stopper: 3; best val loss: 0.638\n",
      "\n",
      "Epoch: 22; train Loss: 0.638; val Loss: 0.638; stopper: 0; best val loss: 0.638\n",
      "\n",
      "Epoch: 23; train Loss: 0.638; val Loss: 0.639; stopper: 1; best val loss: 0.638\n",
      "\n",
      "Epoch    24: reducing learning rate of group 0 to 6.2500e-04.\n",
      "Epoch: 24; train Loss: 0.638; val Loss: 0.638; stopper: 2; best val loss: 0.638\n",
      "\n",
      "Epoch: 25; train Loss: 0.637; val Loss: 0.637; stopper: 0; best val loss: 0.637\n",
      "\n",
      "Epoch: 26; train Loss: 0.637; val Loss: 0.637; stopper: 0; best val loss: 0.637\n",
      "\n",
      "Epoch: 27; train Loss: 0.637; val Loss: 0.637; stopper: 0; best val loss: 0.637\n",
      "\n",
      "Epoch: 28; train Loss: 0.637; val Loss: 0.637; stopper: 1; best val loss: 0.637\n",
      "\n",
      "Epoch: 29; train Loss: 0.637; val Loss: 0.637; stopper: 2; best val loss: 0.637\n",
      "\n",
      "Epoch: 30; train Loss: 0.637; val Loss: 0.637; stopper: 3; best val loss: 0.637\n",
      "\n",
      "Epoch: 31; train Loss: 0.637; val Loss: 0.637; stopper: 4; best val loss: 0.637\n",
      "\n",
      "Epoch    32: reducing learning rate of group 0 to 1.5625e-04.\n",
      "Epoch: 32; train Loss: 0.637; val Loss: 0.637; stopper: 5; best val loss: 0.637\n",
      "\n",
      "Epoch: 33; train Loss: 0.636; val Loss: 0.637; stopper: 0; best val loss: 0.637\n",
      "\n",
      "Epoch: 34; train Loss: 0.636; val Loss: 0.637; stopper: 1; best val loss: 0.637\n",
      "\n",
      "Epoch: 35; train Loss: 0.636; val Loss: 0.637; stopper: 2; best val loss: 0.637\n",
      "\n",
      "Epoch: 36; train Loss: 0.636; val Loss: 0.637; stopper: 3; best val loss: 0.637\n",
      "\n",
      "Epoch    37: reducing learning rate of group 0 to 3.9063e-05.\n",
      "Epoch: 37; train Loss: 0.636; val Loss: 0.637; stopper: 0; best val loss: 0.637\n",
      "\n",
      "Epoch: 38; train Loss: 0.636; val Loss: 0.637; stopper: 0; best val loss: 0.637\n",
      "\n",
      "Epoch: 39; train Loss: 0.636; val Loss: 0.637; stopper: 1; best val loss: 0.637\n",
      "\n",
      "Epoch: 40; train Loss: 0.636; val Loss: 0.637; stopper: 2; best val loss: 0.637\n",
      "\n",
      "Epoch: 41; train Loss: 0.636; val Loss: 0.637; stopper: 0; best val loss: 0.637\n",
      "\n",
      "Epoch    42: reducing learning rate of group 0 to 9.7656e-06.\n",
      "Epoch: 42; train Loss: 0.636; val Loss: 0.637; stopper: 1; best val loss: 0.637\n",
      "\n",
      "Epoch: 43; train Loss: 0.636; val Loss: 0.637; stopper: 0; best val loss: 0.637\n",
      "\n",
      "Epoch: 44; train Loss: 0.636; val Loss: 0.637; stopper: 1; best val loss: 0.637\n",
      "\n",
      "Epoch: 45; train Loss: 0.636; val Loss: 0.637; stopper: 0; best val loss: 0.637\n",
      "\n",
      "Epoch    46: reducing learning rate of group 0 to 2.4414e-06.\n",
      "Epoch: 46; train Loss: 0.636; val Loss: 0.637; stopper: 0; best val loss: 0.637\n",
      "\n",
      "Epoch: 47; train Loss: 0.636; val Loss: 0.637; stopper: 1; best val loss: 0.637\n",
      "\n",
      "Epoch: 48; train Loss: 0.636; val Loss: 0.637; stopper: 2; best val loss: 0.637\n",
      "\n",
      "Epoch: 49; train Loss: 0.636; val Loss: 0.637; stopper: 3; best val loss: 0.637\n",
      "\n",
      "Epoch    50: reducing learning rate of group 0 to 6.1035e-07.\n",
      "Epoch: 50; train Loss: 0.636; val Loss: 0.637; stopper: 4; best val loss: 0.637\n",
      "\n",
      "Epoch: 51; train Loss: 0.636; val Loss: 0.637; stopper: 5; best val loss: 0.637\n",
      "\n",
      "Epoch: 52; train Loss: 0.636; val Loss: 0.637; stopper: 6; best val loss: 0.637\n",
      "\n",
      "Epoch: 53; train Loss: 0.636; val Loss: 0.637; stopper: 7; best val loss: 0.637\n",
      "\n",
      "Epoch    54: reducing learning rate of group 0 to 1.5259e-07.\n",
      "Epoch: 54; train Loss: 0.636; val Loss: 0.637; stopper: 8; best val loss: 0.637\n",
      "\n",
      "Epoch: 55; train Loss: 0.636; val Loss: 0.637; stopper: 9; best val loss: 0.637\n",
      "\n",
      "Epoch: 56; train Loss: 0.636; val Loss: 0.637; stopper: 10; best val loss: 0.637\n",
      "\n",
      "Epoch: 57; train Loss: 0.636; val Loss: 0.637; stopper: 11; best val loss: 0.637\n",
      "\n",
      "Epoch    58: reducing learning rate of group 0 to 3.8147e-08.\n",
      "Epoch: 58; train Loss: 0.636; val Loss: 0.637; stopper: 12; best val loss: 0.637\n",
      "\n",
      "Epoch: 59; train Loss: 0.636; val Loss: 0.637; stopper: 13; best val loss: 0.637\n",
      "\n",
      "Epoch: 60; train Loss: 0.636; val Loss: 0.637; stopper: 14; best val loss: 0.637\n",
      "\n",
      "Epoch: 61; train Loss: 0.636; val Loss: 0.637; stopper: 15; best val loss: 0.637\n",
      "\n",
      "Epoch    62: reducing learning rate of group 0 to 9.5367e-09.\n",
      "Epoch: 62; train Loss: 0.636; val Loss: 0.637; stopper: 16; best val loss: 0.637\n",
      "\n"
     ]
    }
   ],
   "source": [
    "pz = dist.MultivariateNormal(torch.zeros(2), torch.eye(2))\n",
    "model.to(device)\n",
    "\n",
    "losses = []\n",
    "losses_val = []\n",
    "nbatches = len(loader)\n",
    "stopper=0\n",
    "best_loss=np.inf\n",
    "epoch = 0\n",
    "loss_val = np.inf\n",
    "best_model_dict = None\n",
    "\n",
    "while stopper<=15:\n",
    "    epo_loss = 0\n",
    "    for d, c in loader:\n",
    "        d = d.to(device)\n",
    "        c = c.to(device)\n",
    "        \n",
    "        u = model(c.float())\n",
    "        loss = mse(u.float(), d.float())\n",
    "        \n",
    "        optimizer.zero_grad()\n",
    "        loss.backward()\n",
    "        optimizer.step()\n",
    "        epo_loss += loss.cpu().detach().numpy()\n",
    "    epo_loss /= nbatches\n",
    "    epo_loss = round(epo_loss,5)\n",
    "    scheduler.step(epo_loss)\n",
    "    losses.append(epo_loss)\n",
    "    \n",
    "    # validation\n",
    "    u = model(cdata_val.float())\n",
    "    #z, log_jac = evaluate_sequential(model, data_val.float(), cond=cdata_val.float())\n",
    "    loss_val = mse(u.float(), data_val.float())\n",
    "    loss_val = loss_val.cpu().detach().numpy()\n",
    "    losses_val.append(loss_val)\n",
    "    if loss_val >= best_loss: \n",
    "        stopper+=1\n",
    "    else:\n",
    "        best_loss = loss_val\n",
    "        stopper = 0\n",
    "        best_model_dict = model.state_dict()\n",
    "    epoch += 1\n",
    "    print('Epoch: {:.0f}; train Loss: {:.3f}; val Loss: {:.3f}; stopper: {:.0f}; best val loss: {:.3f}\\n'.format(epoch, epo_loss, loss_val, stopper, best_loss))\n",
    "    \n",
    "    if epoch >= args.test and args.test > 0:\n",
    "        break"
   ]
  },
  {
   "cell_type": "code",
   "execution_count": 19,
   "metadata": {},
   "outputs": [
    {
     "data": {
      "image/png": "[encoded data removed]",
      "text/plain": [
       "<Figure size 432x288 with 1 Axes>"
      ]
     },
     "metadata": {
      "needs_background": "light"
     },
     "output_type": "display_data"
    }
   ],
   "source": [
    "plt.plot(losses, label='training')\n",
    "plt.plot(losses_val, label='validation')\n",
    "plt.vlines(len(losses)-stopper, ymin=np.min(losses), ymax=np.max(losses), \n",
    "            label='best model', colors=['grey'])\n",
    "plt.xlabel('Epochs')\n",
    "plt.ylabel('Loss')\n",
    "plt.legend()\n",
    "plt.savefig(args.output+'loss.pdf')\n",
    "plt.clf()"
   ]
  },
  {
   "cell_type": "code",
   "execution_count": 20,
   "metadata": {},
   "outputs": [
    {
     "data": {
      "text/plain": [
       "<All keys matched successfully>"
      ]
     },
     "execution_count": 20,
     "metadata": {},
     "output_type": "execute_result"
    }
   ],
   "source": [
    "model.load_state_dict(best_model_dict)"
   ]
  },
  {
   "cell_type": "code",
   "execution_count": 21,
   "metadata": {},
   "outputs": [],
   "source": [
    "torch.save(model.state_dict(), args.output+'model.pt')\n",
    "#os.system('cp ' + os.path.basename(__file__) + ' ' + args.output + 'code.py') "
   ]
  },
  {
   "cell_type": "code",
   "execution_count": null,
   "metadata": {},
   "outputs": [],
   "source": []
  }
 ],
 "metadata": {
  "jupytext": {
   "formats": "ipynb,py"
  },
  "kernelspec": {
   "display_name": "Python 3.6.9 ('cluster')",
   "language": "python",
   "name": "python3"
  },
  "language_info": {
   "codemirror_mode": {
    "name": "ipython",
    "version": 3
   },
   "file_extension": ".py",
   "mimetype": "text/x-python",
   "name": "python",
   "nbconvert_exporter": "python",
   "pygments_lexer": "ipython3",
   "version": "3.6.9"
  },
  "vscode": {
   "interpreter": {
    "hash": "51d79ee5a382be89a01a9124be8ffc10729a209d43e3ab0e2c741d5f20c6cac5"
   }
  }
 },
 "nbformat": 4,
 "nbformat_minor": 2
}
