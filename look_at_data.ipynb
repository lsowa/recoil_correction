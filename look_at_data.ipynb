{
 "cells": [
  {
   "cell_type": "code",
   "execution_count": null,
   "metadata": {},
   "outputs": [],
   "source": []
  },
  {
   "cell_type": "code",
   "execution_count": 1,
   "metadata": {},
   "outputs": [],
   "source": [
    "import glob\n",
    "import uproot\n",
    "import pandas as pd"
   ]
  },
  {
   "cell_type": "code",
   "execution_count": 2,
   "metadata": {},
   "outputs": [],
   "source": [
    "path_old = '/ceph/moh/CROWN_samples/EarlyRun3_V07/ntuples/2018/SingleMuon_Run2018A-UL2018/mm/*.root'\n",
    "path = '/ceph/lsowa/recoil/*.root'"
   ]
  },
  {
   "cell_type": "code",
   "execution_count": 3,
   "metadata": {},
   "outputs": [],
   "source": [
    "data = None\n",
    "for file in uproot.iterate(path+\":ntuple\", library=\"pd\"):\n",
    "    if data is None:\n",
    "        data = pd.DataFrame.from_dict(file)\n",
    "    else:\n",
    "        df = pd.DataFrame.from_dict(file)\n",
    "        data = pd.concat([data, df])"
   ]
  },
  {
   "cell_type": "code",
   "execution_count": 4,
   "metadata": {},
   "outputs": [
    {
     "data": {
      "text/plain": [
       "Index(['pt_vis_c_x', 'pt_vis_c_y', 'pt_vis_c', 'phi_vis_c', 'uPx', 'uPy',\n",
       "       'uP1_uncorrected', 'uP2_uncorrected', 'beta_1', 'beta_2',\n",
       "       ...\n",
       "       'tkIsoId_1', 'tkIsoId_2', 'tkRelIso_1', 'tkRelIso_2',\n",
       "       'trg_single_mu24_1', 'trg_single_mu24_2', 'trg_single_mu27_1',\n",
       "       'trg_single_mu27_2', 'triggerIdLoose_1', 'triggerIdLoose_2'],\n",
       "      dtype='object', length=213)"
      ]
     },
     "execution_count": 4,
     "metadata": {},
     "output_type": "execute_result"
    }
   ],
   "source": [
    "data.keys()"
   ]
  },
  {
   "cell_type": "code",
   "execution_count": 6,
   "metadata": {},
   "outputs": [
    {
     "name": "stdout",
     "output_type": "stream",
     "text": [
      "pt_vis_c_x\n",
      "pt_vis_c_y\n",
      "pt_vis_c\n",
      "phi_vis_c\n",
      "uPx\n",
      "uPy\n",
      "uP1_uncorrected\n",
      "uP2_uncorrected\n",
      "beta_1\n",
      "beta_2\n",
      "bphi_1\n",
      "bphi_2\n",
      "bpt_1\n",
      "bpt_2\n",
      "btag_value_1\n",
      "btag_value_2\n",
      "dxyErr_1\n",
      "dxyErr_2\n",
      "dxy_1\n",
      "dxy_2\n",
      "dxybs_1\n",
      "dxybs_2\n",
      "dzErr_1\n",
      "dzErr_2\n",
      "dz_1\n",
      "dz_2\n",
      "eta_1\n",
      "eta_2\n",
      "event\n",
      "fsrPhotonIdx_1\n",
      "fsrPhotonIdx_2\n",
      "gen_eta_1\n",
      "gen_eta_2\n",
      "gen_m_vis\n",
      "gen_mass_1\n",
      "gen_mass_2\n",
      "gen_matchIdx_1\n",
      "gen_matchIdx_2\n",
      "gen_match_1\n",
      "gen_match_2\n",
      "gen_pdgid_1\n",
      "gen_pdgid_2\n",
      "gen_phi_1\n",
      "gen_phi_2\n",
      "gen_pt_1\n",
      "gen_pt_2\n",
      "genbosoneta\n",
      "genbosonmass\n",
      "genbosonphi\n",
      "genbosonpt\n",
      "genbosonrapidity\n",
      "genmatch_eta_1\n",
      "genmatch_eta_2\n",
      "genmatch_mass_1\n",
      "genmatch_mass_2\n",
      "genmatch_phi_1\n",
      "genmatch_phi_2\n",
      "genmatch_pt_1\n",
      "genmatch_pt_2\n",
      "genweight\n",
      "highPtId_1\n",
      "highPtId_2\n",
      "highPurity_1\n",
      "highPurity_2\n",
      "id_wgt_mu_1\n",
      "id_wgt_mu_1__MuonIDDown\n",
      "id_wgt_mu_1__MuonIDUp\n",
      "id_wgt_mu_2\n",
      "id_wgt_mu_2__MuonIDDown\n",
      "id_wgt_mu_2__MuonIDUp\n",
      "inTimeMuon_1\n",
      "inTimeMuon_2\n",
      "ip3d_1\n",
      "ip3d_2\n",
      "isGlobal_1\n",
      "isGlobal_2\n",
      "isPFcand_1\n",
      "isPFcand_2\n",
      "isStandalone_1\n",
      "isStandalone_2\n",
      "isTracker_1\n",
      "isTracker_2\n",
      "is_data\n",
      "is_diboson\n",
      "is_dyjets\n",
      "is_embedding\n",
      "is_ggh_htautau\n",
      "is_ttbar\n",
      "is_vbf_htautau\n",
      "is_wjets\n",
      "iso_1\n",
      "iso_2\n",
      "iso_wgt_mu_1\n",
      "iso_wgt_mu_1__MuonIsoDown\n",
      "iso_wgt_mu_1__MuonIsoUp\n",
      "iso_wgt_mu_2\n",
      "iso_wgt_mu_2__MuonIsoDown\n",
      "iso_wgt_mu_2__MuonIsoUp\n",
      "jetIdx_1\n",
      "jetIdx_2\n",
      "jetNDauCharged_1\n",
      "jetNDauCharged_2\n",
      "jetPtRelv2_1\n",
      "jetPtRelv2_2\n",
      "jetRelIso_1\n",
      "jetRelIso_2\n",
      "jeta_1\n",
      "jeta_2\n",
      "jphi_1\n",
      "jphi_2\n",
      "jpt_1\n",
      "jpt_2\n",
      "jtag_value_1\n",
      "jtag_value_2\n",
      "looseId_1\n",
      "looseId_2\n",
      "lumi\n",
      "m_vis\n",
      "mass_1\n",
      "mass_2\n",
      "mediumId_1\n",
      "mediumId_2\n",
      "mediumPromptId_1\n",
      "mediumPromptId_2\n",
      "met\n",
      "metSumEt\n",
      "met_uncorrected\n",
      "metcov00\n",
      "metcov01\n",
      "metcov10\n",
      "metcov11\n",
      "metphi\n",
      "metphi_uncorrected\n",
      "miniIsoId_1\n",
      "miniIsoId_2\n",
      "miniPFRelIso_all_1\n",
      "miniPFRelIso_all_2\n",
      "miniPFRelIso_chg_1\n",
      "miniPFRelIso_chg_2\n",
      "mjj\n",
      "multiIsoId_1\n",
      "multiIsoId_2\n",
      "mvaId_1\n",
      "mvaId_2\n",
      "mvaLowPtId_1\n",
      "mvaLowPtId_2\n",
      "mvaLowPt_chg_1\n",
      "mvaLowPt_chg_2\n",
      "mvaTTH_1\n",
      "mvaTTH_2\n",
      "nStations_1\n",
      "nStations_2\n",
      "nTrackerLayers_1\n",
      "nTrackerLayers_2\n",
      "nbtag\n",
      "njets\n",
      "nmuons\n",
      "npartons\n",
      "npu\n",
      "npvGood\n",
      "pfIsoId_1\n",
      "pfIsoId_2\n",
      "pfRelIso03_all_1\n",
      "pfRelIso03_all_2\n",
      "pfRelIso03_chg_1\n",
      "pfRelIso03_chg_2\n",
      "pfRelIso04_all_1\n",
      "pfRelIso04_all_2\n",
      "pfmet\n",
      "pfmet_uncorrected\n",
      "pfmetphi\n",
      "pfmetphi_uncorrected\n",
      "phi_1\n",
      "phi_2\n",
      "ptErr_1\n",
      "ptErr_2\n",
      "pt_1\n",
      "pt_2\n",
      "pt_rc_1\n",
      "pt_rc_2\n",
      "pt_vis\n",
      "puppiIsoId_1\n",
      "puppiIsoId_2\n",
      "puweight\n",
      "puweight__PUDown\n",
      "puweight__PUUp\n",
      "q_1\n",
      "q_2\n",
      "run\n",
      "segmentComp_1\n",
      "segmentComp_2\n",
      "sip3d_1\n",
      "sip3d_2\n",
      "softId_1\n",
      "softId_2\n",
      "softMvaId_1\n",
      "softMvaId_2\n",
      "softMva_1\n",
      "softMva_2\n",
      "tightCharge_1\n",
      "tightCharge_2\n",
      "tightId_1\n",
      "tightId_2\n",
      "tkIsoId_1\n",
      "tkIsoId_2\n",
      "tkRelIso_1\n",
      "tkRelIso_2\n",
      "trg_single_mu24_1\n",
      "trg_single_mu24_2\n",
      "trg_single_mu27_1\n",
      "trg_single_mu27_2\n",
      "triggerIdLoose_1\n",
      "triggerIdLoose_2\n"
     ]
    }
   ],
   "source": [
    "for key in data.keys():\n",
    "    if True:\n",
    "        print(key)"
   ]
  },
  {
   "cell_type": "code",
   "execution_count": null,
   "metadata": {},
   "outputs": [
    {
     "data": {
      "text/plain": [
       "array([[<AxesSubplot:title={'center':'uP1_uncorrected'}>]], dtype=object)"
      ]
     },
     "execution_count": 14,
     "metadata": {},
     "output_type": "execute_result"
    },
    {
     "data": {
      "image/png": "[encoded data removed]",
      "text/plain": [
       "<Figure size 432x288 with 1 Axes>"
      ]
     },
     "metadata": {
      "needs_background": "light"
     },
     "output_type": "display_data"
    }
   ],
   "source": [
    "data.hist('uP1_uncorrected')"
   ]
  },
  {
   "cell_type": "code",
   "execution_count": null,
   "metadata": {},
   "outputs": [],
   "source": []
  }
 ],
 "metadata": {
  "kernelspec": {
   "display_name": "Python 3.6.9 ('cluster')",
   "language": "python",
   "name": "python3"
  },
  "language_info": {
   "codemirror_mode": {
    "name": "ipython",
    "version": 3
   },
   "file_extension": ".py",
   "mimetype": "text/x-python",
   "name": "python",
   "nbconvert_exporter": "python",
   "pygments_lexer": "ipython3",
   "version": "3.6.9"
  },
  "orig_nbformat": 4,
  "vscode": {
   "interpreter": {
    "hash": "b005ab6eda12d21ebceb8ef5791a16fc55b2ce86fd289021a8c5462e4b8c3e2c"
   }
  }
 },
 "nbformat": 4,
 "nbformat_minor": 2
}
